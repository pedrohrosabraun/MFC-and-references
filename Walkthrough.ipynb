{
 "cells": [
  {
   "cell_type": "markdown",
   "metadata": {},
   "source": [
    "# Step 1 \n",
    "This step suggest how to fetch the reference list with the reference number, doi, title year of review online by using the crossref API. \n",
    "\n",
    "You need to enter the doi of the paper on #Example DOI and enter the path to save the .csv file\n",
    "\n",
    "This step only creates the reference list with details. In the next step you will have to input the data from the table inside papers manually or using a tabula.org\n"
   ]
  },
  {
   "cell_type": "code",
   "execution_count": null,
   "metadata": {},
   "outputs": [],
   "source": [
    "import requests\n",
    "import pandas as pd\n",
    "\n",
    "# Function to fetch references using the CrossRef API\n",
    "def get_references_from_doi(doi):\n",
    "    url = f\"https://api.crossref.org/works/{doi}\"\n",
    "    response = requests.get(url)\n",
    "    \n",
    "    if response.status_code == 200:\n",
    "        data = response.json()\n",
    "        references = data.get('message', {}).get('reference', [])\n",
    "        return references\n",
    "    else:\n",
    "        print(f\"Error fetching data for DOI {doi}: {response.status_code}\")\n",
    "        return None\n",
    "\n",
    "# Helper function to extract necessary information for the table\n",
    "def extract_reference_info(ref, order):\n",
    "    # Extract the title\n",
    "    title = ref.get('article-title', 'No Title')\n",
    "    \n",
    "    # Reference order number\n",
    "    reference_number = order + 1  # Start from 1\n",
    "    \n",
    "    # Extract DOI if available\n",
    "    ref_doi = ref.get('DOI', 'No DOI')\n",
    "    \n",
    "    # Extract the year of publication\n",
    "    year = ref.get('year', 'No Year')\n",
    "    \n",
    "    # Return a dictionary with only the desired columns\n",
    "    return {\n",
    "        \"Title\": title,\n",
    "        \"Reference Number\": reference_number,\n",
    "        \"DOI\": ref_doi,\n",
    "        \"Year\": year\n",
    "    }\n",
    "\n",
    "# Example DOI\n",
    "doi = \"10.1016/j.heliyon.2024.e25439\"  # Replace with your DOI\n",
    "references = get_references_from_doi(doi)\n",
    "\n",
    "# Create a DataFrame from the extracted references information\n",
    "if references:\n",
    "    reference_data = [extract_reference_info(ref, i) for i, ref in enumerate(references)]\n",
    "    df = pd.DataFrame(reference_data, columns=[\"Title\", \"Reference Number\", \"DOI\", \"Year\"])\n",
    "    \n",
    "    # Display the table\n",
    "    print(df)\n",
    "    \n",
    "    # Optionally, save to CSV\n",
    "    output_csv_path = 'C:\\\\Users\\\\pedro\\\\Desktop\\\\Materials World\\\\MFC Database\\\\Review 3 Jalili 2024\\\\Review 3 Jalili 2024 test 6.csv'\n",
    "    df.to_csv(output_csv_path, index=False)\n",
    "    print(f\"References table saved to {output_csv_path}\")\n",
    "else:\n",
    "    print(\"No references found.\")"
   ]
  },
  {
   "cell_type": "markdown",
   "metadata": {},
   "source": [
    "# Step 2 - Merge two data frames based on common values in Pandas\n",
    "Now you will merge the 2 two data frames *a)reference list* and *b)the table with info* based on the common values of the **reference number** present in both data frames.\n",
    "\n",
    "This step must be repeated for every new paper studied.\n",
    "\n",
    "Below there is an example of merging the reference list and the table with info from a Review paper from Yaqoob et. al. 2020 (doi:10.3390/ma13092078)"
   ]
  },
  {
   "cell_type": "code",
   "execution_count": null,
   "metadata": {},
   "outputs": [],
   "source": []
  },
  {
   "cell_type": "markdown",
   "metadata": {},
   "source": [
    "# Step 3: Unite all the merged data frames created from the multiple papers"
   ]
  },
  {
   "cell_type": "code",
   "execution_count": null,
   "metadata": {},
   "outputs": [],
   "source": []
  },
  {
   "cell_type": "markdown",
   "metadata": {},
   "source": [
    "# Step 4: Removing duplicates (DOI)"
   ]
  },
  {
   "cell_type": "code",
   "execution_count": null,
   "metadata": {},
   "outputs": [],
   "source": []
  }
 ],
 "metadata": {
  "kernelspec": {
   "display_name": "Python 3",
   "language": "python",
   "name": "python3"
  },
  "language_info": {
   "codemirror_mode": {
    "name": "ipython",
    "version": 3
   },
   "file_extension": ".py",
   "mimetype": "text/x-python",
   "name": "python",
   "nbconvert_exporter": "python",
   "pygments_lexer": "ipython3",
   "version": "3.9.12"
  }
 },
 "nbformat": 4,
 "nbformat_minor": 2
}
