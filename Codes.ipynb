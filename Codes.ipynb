{
 "cells": [
  {
   "cell_type": "markdown",
   "metadata": {},
   "source": [
    "# RIS to CSV converter\n",
    "Notes\n",
    "1) The code below can be used to convert RIS files to CSV files\n",
    "2) The RIS file can be generated using citationchaser.org website\n"
   ]
  },
  {
   "cell_type": "code",
   "execution_count": 5,
   "metadata": {},
   "outputs": [
    {
     "name": "stdout",
     "output_type": "stream",
     "text": [
      "CSV file saved to C:\\Users\\pedro\\Desktop\\Materials World\\Review 1.csv\n"
     ]
    }
   ],
   "source": [
    "import rispy\n",
    "import pandas as pd\n",
    "\n",
    "# Load and parse the RIS file\n",
    "file_path = 'C:\\\\Users\\\\pedro\\\\Desktop\\\\Materials World\\\\references-2024-10-31.ris'\n",
    "with open(file_path, 'r', encoding='utf-8') as file:\n",
    "    entries = rispy.load(file)\n",
    "\n",
    "# Convert to DataFrame and save as CSV\n",
    "df = pd.DataFrame(entries)\n",
    "output_csv_path = 'C:\\\\Users\\\\pedro\\\\Desktop\\\\Materials World\\\\Review 1.csv'\n",
    "df.to_csv(output_csv_path, index=False)\n",
    "\n",
    "print(f\"CSV file saved to {output_csv_path}\")\n"
   ]
  },
  {
   "cell_type": "markdown",
   "metadata": {},
   "source": [
    "# How to fetch the reference list with the reference number, doi, title and author (with year)\n",
    "it uses the crossref API\n"
   ]
  },
  {
   "cell_type": "code",
   "execution_count": 9,
   "metadata": {},
   "outputs": [
    {
     "name": "stdout",
     "output_type": "stream",
     "text": [
      "                                                 Title  Reference Number  \\\n",
      "0    Performance improvement of microbial fuel cell...                 1   \n",
      "1                                             No Title                 2   \n",
      "2    Conversion of wastes into bioelectricity and c...                 3   \n",
      "3    High performance platinum group metal-free cat...                 4   \n",
      "4    Denitrification of water in a microbial fuel c...                 5   \n",
      "..                                                 ...               ...   \n",
      "181                                           No Title               182   \n",
      "182  Electrochemistry and microbiology of microbial...               183   \n",
      "183  Microbial fuel cell is emerging as a versatile...               184   \n",
      "184  An overview of electrode materials in microbia...               185   \n",
      "185  Challenges in the application of microbial fue...               186   \n",
      "\n",
      "                                 DOI                 First Author  \n",
      "0         10.1016/j.rser.2017.05.098              C et al. (2017)  \n",
      "1    10.4018/978-1-5225-5766-1.ch014  Unknown Author(s) (No Year)  \n",
      "2            10.1126/science.1217412              L et al. (2012)  \n",
      "3               10.1149/2.0061703jes              K et al. (2017)  \n",
      "4      10.1016/j.jclepro.2017.12.221              S et al. (2018)  \n",
      "..                               ...                          ...  \n",
      "181                10.3390/ma9100807  Unknown Author(s) (No Year)  \n",
      "182               10.1039/C8RA01711E              A et al. (2018)  \n",
      "183                  10.1002/er.3780              K et al. (2018)  \n",
      "184   10.1016/j.jpowsour.2011.01.012              Z et al. (2011)  \n",
      "185  10.1016/j.scitotenv.2018.05.136              D et al. (2018)  \n",
      "\n",
      "[186 rows x 4 columns]\n",
      "References table saved to C:\\Users\\pedro\\Desktop\\Materials World\\test.csv\n"
     ]
    }
   ],
   "source": [
    "import requests\n",
    "import pandas as pd\n",
    "\n",
    "# Function to fetch references using the CrossRef API\n",
    "def get_references_from_doi(doi):\n",
    "    url = f\"https://api.crossref.org/works/{doi}\"\n",
    "    response = requests.get(url)\n",
    "    \n",
    "    if response.status_code == 200:\n",
    "        data = response.json()\n",
    "        references = data.get('message', {}).get('reference', [])\n",
    "        return references\n",
    "    else:\n",
    "        print(f\"Error fetching data for DOI {doi}: {response.status_code}\")\n",
    "        return None\n",
    "\n",
    "# Helper function to extract necessary information for the table\n",
    "def extract_reference_info(ref, order):\n",
    "    # Extract the title\n",
    "    title = ref.get('article-title', 'No Title')\n",
    "    \n",
    "    # Reference order number\n",
    "    reference_number = order + 1  # Start from 1\n",
    "    \n",
    "    # Extract DOI if available\n",
    "    ref_doi = ref.get('DOI', 'No DOI')\n",
    "    \n",
    "    # Get first author's last name with \"et al.\" if multiple authors\n",
    "    authors = ref.get('author', [])\n",
    "    if authors:\n",
    "        first_author_last_name = authors[0].split(\",\")[0] + \" et al.\" if len(authors) > 1 else authors[0].split(\",\")[0]\n",
    "    else:\n",
    "        first_author_last_name = \"Unknown Author(s)\"\n",
    "    \n",
    "    # Extract the year of publication\n",
    "    year = ref.get('year', 'No Year')\n",
    "    \n",
    "    # Return a dictionary for easy DataFrame conversion\n",
    "    return {\n",
    "        \"Title\": title,\n",
    "        \"Reference Number\": reference_number,\n",
    "        \"DOI\": ref_doi,\n",
    "        \"First Author\": f\"{first_author_last_name} ({year})\"\n",
    "    }\n",
    "\n",
    "# Example DOI\n",
    "doi = \"10.3390/ma13092078\"  # Replace with your DOI\n",
    "references = get_references_from_doi(doi)\n",
    "\n",
    "# Create a DataFrame from the extracted references information\n",
    "if references:\n",
    "    reference_data = [extract_reference_info(ref, i) for i, ref in enumerate(references)]\n",
    "    df = pd.DataFrame(reference_data, columns=[\"Title\", \"Reference Number\", \"DOI\", \"First Author\"])\n",
    "    \n",
    "    # Display the table\n",
    "    print(df)\n",
    "    \n",
    "    # Optionally, save to CSV\n",
    "    output_csv_path = 'C:\\\\Users\\\\pedro\\\\Desktop\\\\Materials World\\\\test.csv'\n",
    "    df.to_csv(output_csv_path, index=False)\n",
    "    print(f\"References table saved to {output_csv_path}\")\n",
    "else:\n",
    "    print(\"No references found.\")\n"
   ]
  },
  {
   "cell_type": "markdown",
   "metadata": {},
   "source": [
    "# How to fetch table information from a PDF"
   ]
  },
  {
   "cell_type": "code",
   "execution_count": null,
   "metadata": {},
   "outputs": [],
   "source": [
    "import pdfplumber\n",
    "\n",
    "# Specify the path to the PDF file\n",
    "pdf_path = 'C:\\\\Users\\\\pedro\\\\Desktop\\\\Materials World\\\\MFC database\\\\Review 2.pdf'  # Replace with the path to your downloaded PDF\n",
    "\n",
    "with pdfplumber.open(pdf_path) as pdf:\n",
    "    # Loop through the pages\n",
    "    for i in range(len(pdf.pages)):\n",
    "        page = pdf.pages[i]\n",
    "        tables = page.extract_tables()\n",
    "        for table in tables:\n",
    "            # Print or process each table\n",
    "            for row in table:\n",
    "                print(row)  # Each row is a list of column values\n"
   ]
  },
  {
   "cell_type": "code",
   "execution_count": null,
   "metadata": {},
   "outputs": [],
   "source": []
  }
 ],
 "metadata": {
  "kernelspec": {
   "display_name": "base",
   "language": "python",
   "name": "python3"
  },
  "language_info": {
   "codemirror_mode": {
    "name": "ipython",
    "version": 3
   },
   "file_extension": ".py",
   "mimetype": "text/x-python",
   "name": "python",
   "nbconvert_exporter": "python",
   "pygments_lexer": "ipython3",
   "version": "3.9.12"
  }
 },
 "nbformat": 4,
 "nbformat_minor": 2
}
