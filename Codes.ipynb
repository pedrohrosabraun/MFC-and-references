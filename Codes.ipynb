{
 "cells": [
  {
   "cell_type": "markdown",
   "metadata": {},
   "source": [
    "# RIS to CSV converter\n",
    "Notes\n",
    "1) The code below can be used to convert RIS files to CSV files\n",
    "2) The RIS file can be generated using citationchaser.org website\n"
   ]
  },
  {
   "cell_type": "code",
   "execution_count": 5,
   "metadata": {},
   "outputs": [
    {
     "name": "stdout",
     "output_type": "stream",
     "text": [
      "CSV file saved to C:\\Users\\pedro\\Desktop\\Materials World\\Review 1.csv\n"
     ]
    }
   ],
   "source": [
    "import rispy\n",
    "import pandas as pd\n",
    "\n",
    "# Load and parse the RIS file\n",
    "file_path = 'C:\\\\Users\\\\pedro\\\\Desktop\\\\Materials World\\\\references-2024-10-31.ris'\n",
    "with open(file_path, 'r', encoding='utf-8') as file:\n",
    "    entries = rispy.load(file)\n",
    "\n",
    "# Convert to DataFrame and save as CSV\n",
    "df = pd.DataFrame(entries)\n",
    "output_csv_path = 'C:\\\\Users\\\\pedro\\\\Desktop\\\\Materials World\\\\Review 1.csv'\n",
    "df.to_csv(output_csv_path, index=False)\n",
    "\n",
    "print(f\"CSV file saved to {output_csv_path}\")\n"
   ]
  },
  {
   "cell_type": "markdown",
   "metadata": {},
   "source": [
    "# Step 1 \n",
    "How to fetch the reference list with the reference number, doi, title and author (with year)\n",
    "\n",
    "it uses the crossref API\n"
   ]
  },
  {
   "cell_type": "code",
   "execution_count": 5,
   "metadata": {},
   "outputs": [
    {
     "name": "stdout",
     "output_type": "stream",
     "text": [
      "                                                 Title  Reference Number  \\\n",
      "0    Analysis of ammonia loss mechanisms in microbi...                 1   \n",
      "1      Towards a science of climate and energy choices                 2   \n",
      "2    Global energy perspectives to 2060–WEC's world...                 3   \n",
      "3    Renewable energy and sustainable development: ...                 4   \n",
      "4    A novel microbial fuel cell stack for continuo...                 5   \n",
      "..                                                 ...               ...   \n",
      "186  Microbial phenazine production enhances electr...               187   \n",
      "187  Metabolites produced by Pseudomonas sp. enable...               188   \n",
      "188  Anodic biofilms in microbial fuel cells harbor...               189   \n",
      "189  Microfluidic microbial fuel cell: on-chip auto...               190   \n",
      "190  Sediment microbial fuel cells as a barrier to ...               191   \n",
      "\n",
      "                                DOI     First Author  \n",
      "0                 10.1002/bit.21687  K et al. (2008)  \n",
      "1              10.1038/nclimate3027  S et al. (2016)  \n",
      "2         10.1016/j.esr.2020.100523  K et al. (2020)  \n",
      "3     10.1016/S1364-0321(99)00011-8  D et al. (2000)  \n",
      "4    10.1016/j.ijhydene.2011.12.154  R et al. (2012)  \n",
      "..                              ...              ...  \n",
      "186               10.1021/es048563o  R et al. (2005)  \n",
      "187       10.1007/s00253-007-1248-6  P et al. (2008)  \n",
      "188       10.1007/s00253-010-2757-2  K et al. (2010)  \n",
      "189    10.1007/978-3-319-66793-5_12  G et al. (2018)  \n",
      "190      10.1038/s41598-020-70002-4  A et al. (2020)  \n",
      "\n",
      "[191 rows x 4 columns]\n",
      "References table saved to C:\\Users\\pedro\\Desktop\\Materials World\\MFC Database\\Review 3 Jalili 2024\\Review 3 Jalili 2024 test 2.csv\n"
     ]
    }
   ],
   "source": [
    "import requests\n",
    "import pandas as pd\n",
    "\n",
    "# Function to fetch references using the CrossRef API\n",
    "def get_references_from_doi(doi):\n",
    "    url = f\"https://api.crossref.org/works/{doi}\"\n",
    "    response = requests.get(url)\n",
    "    \n",
    "    if response.status_code == 200:\n",
    "        data = response.json()\n",
    "        references = data.get('message', {}).get('reference', [])\n",
    "        return references\n",
    "    else:\n",
    "        print(f\"Error fetching data for DOI {doi}: {response.status_code}\")\n",
    "        return None\n",
    "\n",
    "# Helper function to extract the first author's last name, handling various formats\n",
    "def get_first_author_last_name(authors):\n",
    "    if not authors:\n",
    "        return \"Unknown Author(s)\"\n",
    "    \n",
    "    # Extract the first author\n",
    "    author = authors[0]\n",
    "    \n",
    "    # Try splitting by comma, which may indicate \"LastName, Initials\"\n",
    "    if \",\" in author:\n",
    "        last_name = author.split(\",\")[0].strip()\n",
    "    else:\n",
    "        # If no comma, assume last name is the first word (handle cases like \"Smith J.D.\" or \"Jones, A.B.C.\")\n",
    "        parts = author.split()\n",
    "        last_name = parts[0].strip()\n",
    "    \n",
    "    # Add \"et al.\" if there are multiple authors\n",
    "    return f\"{last_name} et al.\" if len(authors) > 1 else last_name\n",
    "\n",
    "# Helper function to extract necessary information for the table\n",
    "def extract_reference_info(ref, order):\n",
    "    # Extract the title\n",
    "    title = ref.get('article-title', 'No Title')\n",
    "    \n",
    "    # Reference order number\n",
    "    reference_number = order + 1  # Start from 1\n",
    "    \n",
    "    # Extract DOI if available\n",
    "    ref_doi = ref.get('DOI', 'No DOI')\n",
    "    \n",
    "    # Get first author's last name with \"et al.\" if multiple authors\n",
    "    authors = ref.get('author', [])\n",
    "    first_author_last_name = get_first_author_last_name(authors)\n",
    "    \n",
    "    # Extract the year of publication\n",
    "    year = ref.get('year', 'No Year')\n",
    "    \n",
    "    # Return a dictionary for easy DataFrame conversion\n",
    "    return {\n",
    "        \"Title\": title,\n",
    "        \"Reference Number\": reference_number,\n",
    "        \"DOI\": ref_doi,\n",
    "        \"First Author\": f\"{first_author_last_name} ({year})\"\n",
    "    }\n",
    "\n",
    "# Example DOI\n",
    "doi = \"10.1016/j.heliyon.2024.e25439\"  # Replace with your DOI\n",
    "references = get_references_from_doi(doi)\n",
    "\n",
    "# Create a DataFrame from the extracted references information\n",
    "if references:\n",
    "    reference_data = [extract_reference_info(ref, i) for i, ref in enumerate(references)]\n",
    "    df = pd.DataFrame(reference_data, columns=[\"Title\", \"Reference Number\", \"DOI\", \"First Author\"])\n",
    "    \n",
    "    # Display the table\n",
    "    print(df)\n",
    "    \n",
    "    # Optionally, save to CSV\n",
    "    output_csv_path = 'C:\\\\Users\\\\pedro\\\\Desktop\\\\Materials World\\\\MFC Database\\\\Review 3 Jalili 2024\\\\Review 3 Jalili 2024 test 2.csv'\n",
    "    df.to_csv(output_csv_path, index=False)\n",
    "    print(f\"References table saved to {output_csv_path}\")\n",
    "else:\n",
    "    print(\"No references found.\")\n"
   ]
  },
  {
   "cell_type": "markdown",
   "metadata": {},
   "source": [
    "# Step 3 - Fetch the Table info and values using tabula.org"
   ]
  }
 ],
 "metadata": {
  "kernelspec": {
   "display_name": "Python 3",
   "language": "python",
   "name": "python3"
  },
  "language_info": {
   "codemirror_mode": {
    "name": "ipython",
    "version": 3
   },
   "file_extension": ".py",
   "mimetype": "text/x-python",
   "name": "python",
   "nbconvert_exporter": "python",
   "pygments_lexer": "ipython3",
   "version": "3.9.12"
  }
 },
 "nbformat": 4,
 "nbformat_minor": 2
}
