{
 "cells": [
  {
   "cell_type": "code",
   "execution_count": 19,
   "metadata": {},
   "outputs": [],
   "source": [
    "import pandas as pd\n",
    "import seaborn as sns\n",
    "import numpy as np"
   ]
  },
  {
   "cell_type": "code",
   "execution_count": 20,
   "metadata": {},
   "outputs": [],
   "source": [
    "import matplotlib.pyplot as plt\n",
    "%matplotlib inline"
   ]
  },
  {
   "cell_type": "code",
   "execution_count": 21,
   "metadata": {},
   "outputs": [],
   "source": [
    "plotmfc = pd.read_csv(\"combined_version.csv\")"
   ]
  },
  {
   "cell_type": "code",
   "execution_count": 22,
   "metadata": {},
   "outputs": [
    {
     "data": {
      "text/html": [
       "<div>\n",
       "<style scoped>\n",
       "    .dataframe tbody tr th:only-of-type {\n",
       "        vertical-align: middle;\n",
       "    }\n",
       "\n",
       "    .dataframe tbody tr th {\n",
       "        vertical-align: top;\n",
       "    }\n",
       "\n",
       "    .dataframe thead th {\n",
       "        text-align: right;\n",
       "    }\n",
       "</style>\n",
       "<table border=\"1\" class=\"dataframe\">\n",
       "  <thead>\n",
       "    <tr style=\"text-align: right;\">\n",
       "      <th></th>\n",
       "      <th>Type of Material</th>\n",
       "      <th>Anode</th>\n",
       "      <th>Size of Anode</th>\n",
       "      <th>Surface Area of Anode cm2</th>\n",
       "      <th>Inoculum Source/</th>\n",
       "      <th>Power Density mw/m2</th>\n",
       "      <th>Title</th>\n",
       "      <th>DOI</th>\n",
       "      <th>Year</th>\n",
       "    </tr>\n",
       "  </thead>\n",
       "  <tbody>\n",
       "    <tr>\n",
       "      <th>0</th>\n",
       "      <td>Carbon-based</td>\n",
       "      <td>Carbon Cloth</td>\n",
       "      <td>NaN</td>\n",
       "      <td>NaN</td>\n",
       "      <td>Innoculum Source</td>\n",
       "      <td>28.000</td>\n",
       "      <td>Full-loop operation and cathodic acidification...</td>\n",
       "      <td>10.1016/j.biortech.2011.02.098</td>\n",
       "      <td>2011</td>\n",
       "    </tr>\n",
       "    <tr>\n",
       "      <th>1</th>\n",
       "      <td>Carbon-based</td>\n",
       "      <td>Graphite Rod and Carbon Cloth</td>\n",
       "      <td>NaN</td>\n",
       "      <td>NaN</td>\n",
       "      <td>Domestic waste</td>\n",
       "      <td>229.000</td>\n",
       "      <td>Power recovery with multi-anode/cathode microb...</td>\n",
       "      <td>10.1016/j.ijhydene.2010.04.136</td>\n",
       "      <td>2010</td>\n",
       "    </tr>\n",
       "    <tr>\n",
       "      <th>2</th>\n",
       "      <td>Carbon-based</td>\n",
       "      <td>Graphite Rod and Carbon Cloth</td>\n",
       "      <td>NaN</td>\n",
       "      <td>NaN</td>\n",
       "      <td>Domestic waste</td>\n",
       "      <td>1200.000</td>\n",
       "      <td>A pilot-scale study on utilizing multi-anode/c...</td>\n",
       "      <td>10.1016/j.ijhydene.2010.08.074</td>\n",
       "      <td>2011</td>\n",
       "    </tr>\n",
       "    <tr>\n",
       "      <th>3</th>\n",
       "      <td>Carbon-based</td>\n",
       "      <td>Graphite Felt</td>\n",
       "      <td>NaN</td>\n",
       "      <td>NaN</td>\n",
       "      <td>Domestic waste</td>\n",
       "      <td>149.000</td>\n",
       "      <td>Electricity generation and microbial community...</td>\n",
       "      <td>10.1016/j.biortech.2012.04.078</td>\n",
       "      <td>2012</td>\n",
       "    </tr>\n",
       "    <tr>\n",
       "      <th>4</th>\n",
       "      <td>Carbon-based</td>\n",
       "      <td>Graphite Felt</td>\n",
       "      <td>NaN</td>\n",
       "      <td>NaN</td>\n",
       "      <td>Domestic waste</td>\n",
       "      <td>3.226</td>\n",
       "      <td>Scalable microbial fuel cell (MFC) stack for c...</td>\n",
       "      <td>10.1016/j.biortech.2011.11.019</td>\n",
       "      <td>2012</td>\n",
       "    </tr>\n",
       "    <tr>\n",
       "      <th>5</th>\n",
       "      <td>Carbon-based</td>\n",
       "      <td>Graphite Felt</td>\n",
       "      <td>NaN</td>\n",
       "      <td>NaN</td>\n",
       "      <td>Swine wastewater</td>\n",
       "      <td>0.097</td>\n",
       "      <td>Long-term evaluation of a 10-liter serpentine-...</td>\n",
       "      <td>10.1016/j.biortech.2012.07.038</td>\n",
       "      <td>2012</td>\n",
       "    </tr>\n",
       "    <tr>\n",
       "      <th>6</th>\n",
       "      <td>Carbon-based</td>\n",
       "      <td>Carbon Brush</td>\n",
       "      <td>NaN</td>\n",
       "      <td>NaN</td>\n",
       "      <td>Malt wastewater</td>\n",
       "      <td>4.710</td>\n",
       "      <td>In situ investigation of tubular microbial fue...</td>\n",
       "      <td>10.1016/j.biortech.2013.02.107</td>\n",
       "      <td>2013</td>\n",
       "    </tr>\n",
       "    <tr>\n",
       "      <th>7</th>\n",
       "      <td>Carbon-based</td>\n",
       "      <td>Carbon Brush</td>\n",
       "      <td>NaN</td>\n",
       "      <td>NaN</td>\n",
       "      <td>Domestic waste</td>\n",
       "      <td>14.610</td>\n",
       "      <td>Long-term performance of liter-scale microbial...</td>\n",
       "      <td>10.1021/es400631r</td>\n",
       "      <td>2013</td>\n",
       "    </tr>\n",
       "    <tr>\n",
       "      <th>8</th>\n",
       "      <td>Carbon-based</td>\n",
       "      <td>Carbon Brush</td>\n",
       "      <td>NaN</td>\n",
       "      <td>NaN</td>\n",
       "      <td>Domestic waste</td>\n",
       "      <td>14.500</td>\n",
       "      <td>A horizontal plug flow and stackable pilot mic...</td>\n",
       "      <td>10.1016/j.biortech.2013.12.104</td>\n",
       "      <td>2014</td>\n",
       "    </tr>\n",
       "    <tr>\n",
       "      <th>9</th>\n",
       "      <td>Carbon-based</td>\n",
       "      <td>Carbon Brush</td>\n",
       "      <td>NaN</td>\n",
       "      <td>NaN</td>\n",
       "      <td>Domestic waste</td>\n",
       "      <td>159.000</td>\n",
       "      <td>A 90-liter stackable baffled microbial fuel ce...</td>\n",
       "      <td>10.1016/j.biortech.2015.06.026</td>\n",
       "      <td>2015</td>\n",
       "    </tr>\n",
       "    <tr>\n",
       "      <th>10</th>\n",
       "      <td>Carbon-based</td>\n",
       "      <td>Carbon Brush</td>\n",
       "      <td>NaN</td>\n",
       "      <td>NaN</td>\n",
       "      <td>Malt wastewater</td>\n",
       "      <td>17.250</td>\n",
       "      <td>Energy extraction from a large-scale microbial...</td>\n",
       "      <td>10.1016/j.jpowsour.2015.07.105</td>\n",
       "      <td>2015</td>\n",
       "    </tr>\n",
       "    <tr>\n",
       "      <th>11</th>\n",
       "      <td>Carbon-based</td>\n",
       "      <td>Carbon Brush</td>\n",
       "      <td>NaN</td>\n",
       "      <td>NaN</td>\n",
       "      <td>Domestic waste</td>\n",
       "      <td>1100.000</td>\n",
       "      <td>Microbial fuel cells with an integrated spacer...</td>\n",
       "      <td>No DOI</td>\n",
       "      <td>2016</td>\n",
       "    </tr>\n",
       "    <tr>\n",
       "      <th>12</th>\n",
       "      <td>Carbon-based</td>\n",
       "      <td>Carbon Brush</td>\n",
       "      <td>NaN</td>\n",
       "      <td>NaN</td>\n",
       "      <td>Domestic waste</td>\n",
       "      <td>1.610</td>\n",
       "      <td>Long-term performance of a 20-L continuous flo...</td>\n",
       "      <td>10.1016/j.jpowsour.2017.03.132</td>\n",
       "      <td>2017</td>\n",
       "    </tr>\n",
       "    <tr>\n",
       "      <th>13</th>\n",
       "      <td>Composite</td>\n",
       "      <td>Granullar Carbon with a Titanium Core</td>\n",
       "      <td>NaN</td>\n",
       "      <td>NaN</td>\n",
       "      <td>Domestic waste</td>\n",
       "      <td>25.000</td>\n",
       "      <td>A novel pilot-scale stacked microbial fuel cel...</td>\n",
       "      <td>10.1016/j.watres.2016.04.043</td>\n",
       "      <td>2016</td>\n",
       "    </tr>\n",
       "    <tr>\n",
       "      <th>14</th>\n",
       "      <td>Carbon-based</td>\n",
       "      <td>Carbon Brush</td>\n",
       "      <td>NaN</td>\n",
       "      <td>NaN</td>\n",
       "      <td>Domestic waste</td>\n",
       "      <td>3.200</td>\n",
       "      <td>Ceramic Microbial Fuel Cells Stack: power gene...</td>\n",
       "      <td>10.1038/s41598-018-21404-y</td>\n",
       "      <td>2018</td>\n",
       "    </tr>\n",
       "    <tr>\n",
       "      <th>15</th>\n",
       "      <td>Carbon-based</td>\n",
       "      <td>Activated Carbon</td>\n",
       "      <td>NaN</td>\n",
       "      <td>NaN</td>\n",
       "      <td>Municipal Sewage</td>\n",
       "      <td>0.420</td>\n",
       "      <td>One-year operation of 1000-L modularized micro...</td>\n",
       "      <td>10.1016/j.watres.2018.04.066</td>\n",
       "      <td>2018</td>\n",
       "    </tr>\n",
       "    <tr>\n",
       "      <th>16</th>\n",
       "      <td>Carbon-based</td>\n",
       "      <td>Carbon Cloth</td>\n",
       "      <td>NaN</td>\n",
       "      <td>NaN</td>\n",
       "      <td>Vegetable Oil Industry Wastewater</td>\n",
       "      <td>6119.000</td>\n",
       "      <td>Adsorption of Cu (II) by low cost adsorbents a...</td>\n",
       "      <td>10.1016/j.eti.2018.02.003</td>\n",
       "      <td>2018</td>\n",
       "    </tr>\n",
       "    <tr>\n",
       "      <th>17</th>\n",
       "      <td>Carbon-based</td>\n",
       "      <td>Carbon cloth</td>\n",
       "      <td>2 cm × 2 cm</td>\n",
       "      <td>4.0</td>\n",
       "      <td>S. putrefaciens CN32</td>\n",
       "      <td>679.700</td>\n",
       "      <td>L-Cysteine tailored porous graphene aerogel fo...</td>\n",
       "      <td>10.1039/C5RA09170E</td>\n",
       "      <td>2015</td>\n",
       "    </tr>\n",
       "    <tr>\n",
       "      <th>18</th>\n",
       "      <td>Composite</td>\n",
       "      <td>rGO/SnO2/Carbon cloth composite</td>\n",
       "      <td>3 cm × 2 cm</td>\n",
       "      <td>6.0</td>\n",
       "      <td>E. coli</td>\n",
       "      <td>1624.000</td>\n",
       "      <td>Facile microwave-assisted synthesized reduced ...</td>\n",
       "      <td>10.1016/j.ijhydene.2014.05.008</td>\n",
       "      <td>2014</td>\n",
       "    </tr>\n",
       "    <tr>\n",
       "      <th>19</th>\n",
       "      <td>Carbon-based</td>\n",
       "      <td>Graphene</td>\n",
       "      <td>-</td>\n",
       "      <td>4.0</td>\n",
       "      <td>E. coli</td>\n",
       "      <td>2850.000</td>\n",
       "      <td>Electrochemically exfoliated graphene anodes w...</td>\n",
       "      <td>10.1016/j.bios.2016.02.054</td>\n",
       "      <td>2016</td>\n",
       "    </tr>\n",
       "  </tbody>\n",
       "</table>\n",
       "</div>"
      ],
      "text/plain": [
       "   Type of Material                                 Anode  Size of Anode  \\\n",
       "0      Carbon-based                           Carbon Cloth           NaN   \n",
       "1      Carbon-based          Graphite Rod and Carbon Cloth           NaN   \n",
       "2      Carbon-based          Graphite Rod and Carbon Cloth           NaN   \n",
       "3      Carbon-based                          Graphite Felt           NaN   \n",
       "4      Carbon-based                          Graphite Felt           NaN   \n",
       "5      Carbon-based                          Graphite Felt           NaN   \n",
       "6      Carbon-based                           Carbon Brush           NaN   \n",
       "7      Carbon-based                           Carbon Brush           NaN   \n",
       "8      Carbon-based                           Carbon Brush           NaN   \n",
       "9      Carbon-based                           Carbon Brush           NaN   \n",
       "10     Carbon-based                           Carbon Brush           NaN   \n",
       "11     Carbon-based                           Carbon Brush           NaN   \n",
       "12     Carbon-based                           Carbon Brush           NaN   \n",
       "13        Composite  Granullar Carbon with a Titanium Core           NaN   \n",
       "14     Carbon-based                           Carbon Brush           NaN   \n",
       "15     Carbon-based                       Activated Carbon           NaN   \n",
       "16     Carbon-based                           Carbon Cloth           NaN   \n",
       "17     Carbon-based                           Carbon cloth   2 cm × 2 cm   \n",
       "18        Composite        rGO/SnO2/Carbon cloth composite   3 cm × 2 cm   \n",
       "19     Carbon-based                               Graphene             -   \n",
       "\n",
       "   Surface Area of Anode cm2                   Inoculum Source/  \\\n",
       "0                        NaN                   Innoculum Source   \n",
       "1                        NaN                     Domestic waste   \n",
       "2                        NaN                     Domestic waste   \n",
       "3                        NaN                     Domestic waste   \n",
       "4                        NaN                     Domestic waste   \n",
       "5                        NaN                   Swine wastewater   \n",
       "6                        NaN                    Malt wastewater   \n",
       "7                        NaN                     Domestic waste   \n",
       "8                        NaN                     Domestic waste   \n",
       "9                        NaN                     Domestic waste   \n",
       "10                       NaN                    Malt wastewater   \n",
       "11                       NaN                     Domestic waste   \n",
       "12                       NaN                     Domestic waste   \n",
       "13                       NaN                     Domestic waste   \n",
       "14                       NaN                     Domestic waste   \n",
       "15                       NaN                   Municipal Sewage   \n",
       "16                       NaN  Vegetable Oil Industry Wastewater   \n",
       "17                       4.0               S. putrefaciens CN32   \n",
       "18                       6.0                            E. coli   \n",
       "19                       4.0                            E. coli   \n",
       "\n",
       "    Power Density mw/m2                                              Title  \\\n",
       "0                28.000  Full-loop operation and cathodic acidification...   \n",
       "1               229.000  Power recovery with multi-anode/cathode microb...   \n",
       "2              1200.000  A pilot-scale study on utilizing multi-anode/c...   \n",
       "3               149.000  Electricity generation and microbial community...   \n",
       "4                 3.226  Scalable microbial fuel cell (MFC) stack for c...   \n",
       "5                 0.097  Long-term evaluation of a 10-liter serpentine-...   \n",
       "6                 4.710  In situ investigation of tubular microbial fue...   \n",
       "7                14.610  Long-term performance of liter-scale microbial...   \n",
       "8                14.500  A horizontal plug flow and stackable pilot mic...   \n",
       "9               159.000  A 90-liter stackable baffled microbial fuel ce...   \n",
       "10               17.250  Energy extraction from a large-scale microbial...   \n",
       "11             1100.000  Microbial fuel cells with an integrated spacer...   \n",
       "12                1.610  Long-term performance of a 20-L continuous flo...   \n",
       "13               25.000  A novel pilot-scale stacked microbial fuel cel...   \n",
       "14                3.200  Ceramic Microbial Fuel Cells Stack: power gene...   \n",
       "15                0.420  One-year operation of 1000-L modularized micro...   \n",
       "16             6119.000  Adsorption of Cu (II) by low cost adsorbents a...   \n",
       "17              679.700  L-Cysteine tailored porous graphene aerogel fo...   \n",
       "18             1624.000  Facile microwave-assisted synthesized reduced ...   \n",
       "19             2850.000  Electrochemically exfoliated graphene anodes w...   \n",
       "\n",
       "                               DOI  Year  \n",
       "0   10.1016/j.biortech.2011.02.098  2011  \n",
       "1   10.1016/j.ijhydene.2010.04.136  2010  \n",
       "2   10.1016/j.ijhydene.2010.08.074  2011  \n",
       "3   10.1016/j.biortech.2012.04.078  2012  \n",
       "4   10.1016/j.biortech.2011.11.019  2012  \n",
       "5   10.1016/j.biortech.2012.07.038  2012  \n",
       "6   10.1016/j.biortech.2013.02.107  2013  \n",
       "7                10.1021/es400631r  2013  \n",
       "8   10.1016/j.biortech.2013.12.104  2014  \n",
       "9   10.1016/j.biortech.2015.06.026  2015  \n",
       "10  10.1016/j.jpowsour.2015.07.105  2015  \n",
       "11                          No DOI  2016  \n",
       "12  10.1016/j.jpowsour.2017.03.132  2017  \n",
       "13    10.1016/j.watres.2016.04.043  2016  \n",
       "14      10.1038/s41598-018-21404-y  2018  \n",
       "15    10.1016/j.watres.2018.04.066  2018  \n",
       "16       10.1016/j.eti.2018.02.003  2018  \n",
       "17              10.1039/C5RA09170E  2015  \n",
       "18  10.1016/j.ijhydene.2014.05.008  2014  \n",
       "19      10.1016/j.bios.2016.02.054  2016  "
      ]
     },
     "execution_count": 22,
     "metadata": {},
     "output_type": "execute_result"
    }
   ],
   "source": [
    "plotmfc.head(20)"
   ]
  },
  {
   "cell_type": "code",
   "execution_count": 23,
   "metadata": {},
   "outputs": [
    {
     "name": "stdout",
     "output_type": "stream",
     "text": [
      "<class 'pandas.core.frame.DataFrame'>\n",
      "RangeIndex: 102 entries, 0 to 101\n",
      "Data columns (total 9 columns):\n",
      " #   Column                     Non-Null Count  Dtype  \n",
      "---  ------                     --------------  -----  \n",
      " 0   Type of Material           102 non-null    object \n",
      " 1   Anode                      102 non-null    object \n",
      " 2   Size of Anode              41 non-null     object \n",
      " 3   Surface Area of Anode cm2  63 non-null     object \n",
      " 4   Inoculum Source/           102 non-null    object \n",
      " 5   Power Density mw/m2        102 non-null    float64\n",
      " 6   Title                      102 non-null    object \n",
      " 7   DOI                        102 non-null    object \n",
      " 8   Year                       102 non-null    int64  \n",
      "dtypes: float64(1), int64(1), object(7)\n",
      "memory usage: 7.3+ KB\n"
     ]
    }
   ],
   "source": [
    "plotmfc.info()"
   ]
  },
  {
   "cell_type": "code",
   "execution_count": 24,
   "metadata": {},
   "outputs": [
    {
     "data": {
      "text/plain": [
       "array(['Carbon-based', 'Composite', 'Metal / Metal Oxide',\n",
       "       'Natural Source', 'Modified Polymer', 'Ceramic', '3DP Ceramic',\n",
       "       '3DP Metal', '3DP Carbon-based', '3DP Composite'], dtype=object)"
      ]
     },
     "execution_count": 24,
     "metadata": {},
     "output_type": "execute_result"
    }
   ],
   "source": [
    "plotmfc['Type of Material'].unique()"
   ]
  },
  {
   "cell_type": "code",
   "execution_count": 25,
   "metadata": {},
   "outputs": [
    {
     "data": {
      "text/plain": [
       "array(['Innoculum Source', 'Domestic waste', 'Swine wastewater',\n",
       "       'Malt wastewater', 'Municipal Sewage',\n",
       "       'Vegetable Oil Industry Wastewater', 'S. putrefaciens CN32',\n",
       "       'E. coli', 'P. aeruginosa', 'Anaerobic Sludge',\n",
       "       'S. oneidensis MR-1', 'Wastewater', 'Anaerobic sludge',\n",
       "       'Anaerobic pre-treated sludge', 'Sludge', 'Native wastewater',\n",
       "       'S. oneidensis', 'Mixed community',\n",
       "       'Domestic wastewater - acetate', 'Primary clarifier overflow',\n",
       "       'Shewanellaoneidensi', 'Preacclimated bacteria from an active MFC',\n",
       "       'Marine sediments', 'Sediment sludge', 'Pseudomonas',\n",
       "       'Anaerobic mix sludge', 'Mix sludge', 'Effluent of MFC',\n",
       "       'Strain Breeding', 'Active Sludge', 'E.Coli', 'Food Wastewater',\n",
       "       'S.Putrefaciens ', 'S.Oneidensis', 'Anaerobic Granular Sludge',\n",
       "       '4%LL', 'S.Ioihica', 'Domestic Sewage', 'Mixed Culture',\n",
       "       'Geobacter spp', 'Shewanella oneidensis ', 'Domestic Wastewater'],\n",
       "      dtype=object)"
      ]
     },
     "execution_count": 25,
     "metadata": {},
     "output_type": "execute_result"
    }
   ],
   "source": [
    "plotmfc['Inoculum Source/'].unique()\n",
    "#we have may duplicates of the same type of inoculum source"
   ]
  },
  {
   "cell_type": "code",
   "execution_count": 26,
   "metadata": {},
   "outputs": [],
   "source": [
    "#domestic wastwater and domestic waste\n",
    "plotmfc['Inoculum Source/'].replace('Domestic wastewater','Domestic waste',inplace=True)"
   ]
  },
  {
   "cell_type": "code",
   "execution_count": 27,
   "metadata": {},
   "outputs": [
    {
     "data": {
      "text/plain": [
       "42"
      ]
     },
     "execution_count": 27,
     "metadata": {},
     "output_type": "execute_result"
    }
   ],
   "source": [
    "plotmfc['Inoculum Source/'].nunique()"
   ]
  },
  {
   "cell_type": "code",
   "execution_count": 28,
   "metadata": {},
   "outputs": [
    {
     "data": {
      "text/plain": [
       "Type of Material              0\n",
       "Anode                         0\n",
       "Size of Anode                61\n",
       "Surface Area of Anode cm2    39\n",
       "Inoculum Source/              0\n",
       "Power Density mw/m2           0\n",
       "Title                         0\n",
       "DOI                           0\n",
       "Year                          0\n",
       "dtype: int64"
      ]
     },
     "execution_count": 28,
     "metadata": {},
     "output_type": "execute_result"
    }
   ],
   "source": [
    "plotmfc.isnull().sum()"
   ]
  },
  {
   "cell_type": "code",
   "execution_count": 29,
   "metadata": {},
   "outputs": [
    {
     "data": {
      "text/plain": [
       "<AxesSubplot:xlabel='Type of Material', ylabel='count'>"
      ]
     },
     "execution_count": 29,
     "metadata": {},
     "output_type": "execute_result"
    },
    {
     "data": {
      "image/png": "[encoded data removed]",
      "text/plain": [
       "<Figure size 432x288 with 1 Axes>"
      ]
     },
     "metadata": {
      "needs_background": "light"
     },
     "output_type": "display_data"
    }
   ],
   "source": [
    "sns.countplot(x='Type of Material', data=plotmfc)"
   ]
  },
  {
   "cell_type": "code",
   "execution_count": 30,
   "metadata": {},
   "outputs": [
    {
     "data": {
      "text/plain": [
       "<AxesSubplot:xlabel='Surface Area of Anode cm2', ylabel='Power Density mw/m2'>"
      ]
     },
     "execution_count": 30,
     "metadata": {},
     "output_type": "execute_result"
    },
    {
     "data": {
      "image/png": "[encoded data removed]",
      "text/plain": [
       "<Figure size 432x288 with 1 Axes>"
      ]
     },
     "metadata": {
      "needs_background": "light"
     },
     "output_type": "display_data"
    }
   ],
   "source": [
    "sns.scatterplot(x='Surface Area of Anode cm2', y='Power Density mw/m2',data=plotmfc,hue='Type of Material')"
   ]
  },
  {
   "cell_type": "code",
   "execution_count": null,
   "metadata": {},
   "outputs": [],
   "source": [
    "#domestic wastwater and domestic waste\n",
    "plotmfc['Type of Material'].replace('3DP,'Composite',inplace=True)"
   ]
  },
  {
   "cell_type": "code",
   "execution_count": 32,
   "metadata": {},
   "outputs": [
    {
     "data": {
      "text/plain": [
       "<AxesSubplot:xlabel='Surface Area of Anode cm2', ylabel='Power Density mw/m2'>"
      ]
     },
     "execution_count": 32,
     "metadata": {},
     "output_type": "execute_result"
    },
    {
     "data": {
      "image/png": "[encoded data removed]",
      "text/plain": [
       "<Figure size 432x288 with 1 Axes>"
      ]
     },
     "metadata": {
      "needs_background": "light"
     },
     "output_type": "display_data"
    }
   ],
   "source": [
    "sns.scatterplot(x='Surface Area of Anode cm2', y='Power Density mw/m2',data=plotmfc,hue='Type of Material',)"
   ]
  },
  {
   "cell_type": "code",
   "execution_count": 33,
   "metadata": {},
   "outputs": [],
   "source": [
    "plotmfc.to_csv('combined_3_version.csv', index=False)"
   ]
  },
  {
   "cell_type": "code",
   "execution_count": 34,
   "metadata": {},
   "outputs": [
    {
     "data": {
      "text/plain": [
       "<AxesSubplot:xlabel='Type of Material', ylabel='Power Density mw/m2'>"
      ]
     },
     "execution_count": 34,
     "metadata": {},
     "output_type": "execute_result"
    },
    {
     "data": {
      "image/png": "[encoded data removed]",
      "text/plain": [
       "<Figure size 432x288 with 1 Axes>"
      ]
     },
     "metadata": {
      "needs_background": "light"
     },
     "output_type": "display_data"
    }
   ],
   "source": [
    "sns.barplot(x='Type of Material',y='Power Density mw/m2',data=plotmfc)\n"
   ]
  },
  {
   "cell_type": "code",
   "execution_count": null,
   "metadata": {},
   "outputs": [],
   "source": []
  }
 ],
 "metadata": {
  "kernelspec": {
   "display_name": "Python 3",
   "language": "python",
   "name": "python3"
  },
  "language_info": {
   "codemirror_mode": {
    "name": "ipython",
    "version": 3
   },
   "file_extension": ".py",
   "mimetype": "text/x-python",
   "name": "python",
   "nbconvert_exporter": "python",
   "pygments_lexer": "ipython3",
   "version": "3.9.12"
  }
 },
 "nbformat": 4,
 "nbformat_minor": 2
}
